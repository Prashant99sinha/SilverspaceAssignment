{
 "cells": [
  {
   "cell_type": "markdown",
   "id": "1d176a54",
   "metadata": {},
   "source": [
    "# PART 1                (INGEST THE DATA)"
   ]
  },
  {
   "cell_type": "code",
   "execution_count": 2,
   "id": "3d85608b",
   "metadata": {},
   "outputs": [
    {
     "data": {
      "text/html": [
       "<div>\n",
       "<style scoped>\n",
       "    .dataframe tbody tr th:only-of-type {\n",
       "        vertical-align: middle;\n",
       "    }\n",
       "\n",
       "    .dataframe tbody tr th {\n",
       "        vertical-align: top;\n",
       "    }\n",
       "\n",
       "    .dataframe thead th {\n",
       "        text-align: right;\n",
       "    }\n",
       "</style>\n",
       "<table border=\"1\" class=\"dataframe\">\n",
       "  <thead>\n",
       "    <tr style=\"text-align: right;\">\n",
       "      <th></th>\n",
       "      <th>id</th>\n",
       "      <th>ts1</th>\n",
       "      <th>text</th>\n",
       "      <th>author_id</th>\n",
       "      <th>created_at</th>\n",
       "      <th>like_count</th>\n",
       "      <th>place_id</th>\n",
       "    </tr>\n",
       "  </thead>\n",
       "  <tbody>\n",
       "    <tr>\n",
       "      <th>0</th>\n",
       "      <td>1358322479136178177</td>\n",
       "      <td>2022-03-01 09:06:52.403595-05:00</td>\n",
       "      <td>RT @briebxrries: what is joe biden and kamala ...</td>\n",
       "      <td>54603468</td>\n",
       "      <td>2021-02-07 02:51:30-05:00</td>\n",
       "      <td>0</td>\n",
       "      <td>None</td>\n",
       "    </tr>\n",
       "    <tr>\n",
       "      <th>1</th>\n",
       "      <td>1358323016736796677</td>\n",
       "      <td>2022-01-05 08:34:04.477789-05:00</td>\n",
       "      <td>RT @Variety: Britney Spears Documentary Brings...</td>\n",
       "      <td>754687840290680833</td>\n",
       "      <td>2021-02-07 02:53:38-05:00</td>\n",
       "      <td>0</td>\n",
       "      <td>None</td>\n",
       "    </tr>\n",
       "    <tr>\n",
       "      <th>2</th>\n",
       "      <td>1358322996696465409</td>\n",
       "      <td>2022-03-01 09:06:52.399008-05:00</td>\n",
       "      <td>RT @Johnnerkell: Britney Spears documentary is...</td>\n",
       "      <td>3297058346</td>\n",
       "      <td>2021-02-07 02:53:33-05:00</td>\n",
       "      <td>0</td>\n",
       "      <td>None</td>\n",
       "    </tr>\n",
       "    <tr>\n",
       "      <th>3</th>\n",
       "      <td>1358322976769286151</td>\n",
       "      <td>2022-03-01 09:06:52.399205-05:00</td>\n",
       "      <td>RT @PopCrave: .@NYTimes documentary #FramingBr...</td>\n",
       "      <td>38561622</td>\n",
       "      <td>2021-02-07 02:53:28-05:00</td>\n",
       "      <td>0</td>\n",
       "      <td>None</td>\n",
       "    </tr>\n",
       "    <tr>\n",
       "      <th>4</th>\n",
       "      <td>1368923802260889606</td>\n",
       "      <td>2022-03-01 07:26:05.505986-05:00</td>\n",
       "      <td>Hey y’all! I’m new to Britney stan twitter! Fe...</td>\n",
       "      <td>1343250140522573824</td>\n",
       "      <td>2021-03-08 08:57:22-05:00</td>\n",
       "      <td>0</td>\n",
       "      <td>None</td>\n",
       "    </tr>\n",
       "  </tbody>\n",
       "</table>\n",
       "</div>"
      ],
      "text/plain": [
       "                    id                               ts1  \\\n",
       "0  1358322479136178177  2022-03-01 09:06:52.403595-05:00   \n",
       "1  1358323016736796677  2022-01-05 08:34:04.477789-05:00   \n",
       "2  1358322996696465409  2022-03-01 09:06:52.399008-05:00   \n",
       "3  1358322976769286151  2022-03-01 09:06:52.399205-05:00   \n",
       "4  1368923802260889606  2022-03-01 07:26:05.505986-05:00   \n",
       "\n",
       "                                                text            author_id  \\\n",
       "0  RT @briebxrries: what is joe biden and kamala ...             54603468   \n",
       "1  RT @Variety: Britney Spears Documentary Brings...   754687840290680833   \n",
       "2  RT @Johnnerkell: Britney Spears documentary is...           3297058346   \n",
       "3  RT @PopCrave: .@NYTimes documentary #FramingBr...             38561622   \n",
       "4  Hey y’all! I’m new to Britney stan twitter! Fe...  1343250140522573824   \n",
       "\n",
       "                  created_at like_count place_id  \n",
       "0  2021-02-07 02:51:30-05:00          0     None  \n",
       "1  2021-02-07 02:53:38-05:00          0     None  \n",
       "2  2021-02-07 02:53:33-05:00          0     None  \n",
       "3  2021-02-07 02:53:28-05:00          0     None  \n",
       "4  2021-03-08 08:57:22-05:00          0     None  "
      ]
     },
     "execution_count": 2,
     "metadata": {},
     "output_type": "execute_result"
    }
   ],
   "source": [
    "import pandas as pd\n",
    "import streamlit as st\n",
    "from datetime import datetime\n",
    "\n",
    "# Ingest the data\n",
    "def ingest_data(file_path):\n",
    "    \n",
    "    ##Ingest the data from the TSV file into a pandas DataFrame.\n",
    "    \n",
    "    chunks = pd.read_csv(file_path, sep='\\t', low_memory=False, parse_dates=['ts1'], chunksize=10000)\n",
    "    df=pd.concat(chunks, ignore_index=True)\n",
    "    return df\n",
    "\n",
    "df = ingest_data('correct_twitter_202102.tsv')\n",
    "\n",
    "# Preview the data\n",
    "df[['id', 'ts1', 'text', 'author_id', 'created_at', 'like_count', 'place_id']].head()"
   ]
  },
  {
   "cell_type": "markdown",
   "id": "70256cef",
   "metadata": {},
   "source": [
    "# PART 2 (QUERYING FUNCTIONALITY)"
   ]
  },
  {
   "cell_type": "code",
   "execution_count": 45,
   "id": "95397bd5",
   "metadata": {},
   "outputs": [],
   "source": [
    "# Query 1: Daily Term Frequency\n",
    "\n",
    "def tweets_per_day(df, term):\n",
    "    \n",
    "    df['ts1'] = pd.to_datetime(df['ts1'], errors='coerce')\n",
    "    ##Return how many tweets were posted containing the term on each day.\n",
    "    term_tweets = df[df['text'].str.contains(term, case=False, na=False)]\n",
    "    daily_count = term_tweets.groupby(term_tweets['ts1'].dt.date).size()\n",
    "    return daily_count"
   ]
  },
  {
   "cell_type": "code",
   "execution_count": 44,
   "id": "ec187589",
   "metadata": {},
   "outputs": [],
   "source": [
    "# Query 2: Unique Users Posting the Term\n",
    "\n",
    "def unique_user_count(df, term):\n",
    "    \n",
    "    ##Return the number of unique users who posted a tweet containing the term.\n",
    "    \n",
    "    term_tweets = df[df['text'].str.contains(term, case=False, na=False)]\n",
    "    unique_users = term_tweets['author_id'].nunique()\n",
    "    return unique_users\n"
   ]
  },
  {
   "cell_type": "code",
   "execution_count": 43,
   "id": "5f533874",
   "metadata": {},
   "outputs": [],
   "source": [
    "# Query 3: Average Likes for Tweets Containing the Term\n",
    "def get_average_likes(df, term):\n",
    "    \n",
    "    ## Ensure 'like_count' is numeric, converting any non-numeric values to NaN\n",
    "    \n",
    "    df['like_count'] = pd.to_numeric(df['like_count'], errors='coerce')\n",
    "    \n",
    "    ##Return the average number of retweets for tweets containing the term.\n",
    "    \n",
    "    term_tweets = df[df['text'].str.contains(term, case=False, na=False)]\n",
    "    average_likes = term_tweets['like_count'].sum().mean()\n",
    "    return average_likes\n"
   ]
  },
  {
   "cell_type": "code",
   "execution_count": 42,
   "id": "ac5fe77f",
   "metadata": {},
   "outputs": [],
   "source": [
    "# Query 4: Locations (Place IDs) for Tweets\n",
    "def get_place_ids(df, term):\n",
    "    \n",
    "    ##Return the unique place IDs for tweets containing the term.\n",
    "\n",
    "    term_tweets = df[df['text'].str.contains(term, case=False, na=False)]\n",
    "    place_ids = term_tweets['place_id'].dropna().unique()\n",
    "    return place_ids"
   ]
  },
  {
   "cell_type": "code",
   "execution_count": 41,
   "id": "a87d5537",
   "metadata": {},
   "outputs": [],
   "source": [
    "# Query 5: Tweet Posting Times\n",
    "def get_tweet_times(df, term):\n",
    "    \n",
    "    ##Return the times of day (hours) when tweets containing the term were posted.\n",
    "    \n",
    "    term_tweets = df[df['text'].str.contains(term, case=False, na=False)].copy()\n",
    "    term_tweets.loc[:, 'hour'] = term_tweets['ts1'].dt.hour\n",
    "    hourly_distribution = term_tweets.groupby('hour').size()\n",
    "    return hourly_distribution"
   ]
  },
  {
   "cell_type": "code",
   "execution_count": 39,
   "id": "0f3b58ac",
   "metadata": {},
   "outputs": [],
   "source": [
    "# Query 6: Most Active User Posting the Term\n",
    "def get_most_active_user(df, term):\n",
    "    \n",
    "    ##Return the user who posted the most tweets containing the term.\n",
    "    \n",
    "    term_tweets = df[df['text'].str.contains(term, case=False, na=False)]\n",
    "    most_active_user = term_tweets.groupby('author_id').size().idxmax()\n",
    "    return most_active_user\n"
   ]
  },
  {
   "cell_type": "code",
   "execution_count": 38,
   "id": "dad41d84",
   "metadata": {},
   "outputs": [
    {
     "name": "stdout",
     "output_type": "stream",
     "text": [
      "\n",
      "Daily tweet frequency: ts1\n",
      "2022-01-04      7808\n",
      "2022-01-05     79774\n",
      "2022-01-22      1012\n",
      "2022-03-01    661857\n",
      "dtype: int64\n",
      "\n",
      "Unique users posting the term: 386648\n",
      "\n",
      "Average likes for tweets containing the term: 6062590.0\n",
      "\n",
      "Place IDs for tweets containing the term: ['None' '97bcdfca1a2dca59' '7ef79c5ab17d518c' ... '5d2456d6a8ee247d'\n",
      " 'd6819fe60643ebc1' '268b1c6b7ddcaa1b']\n",
      "\n",
      "Tweet posting times (hourly): hour\n",
      "6      13632\n",
      "7     248379\n",
      "8     284484\n",
      "9     195136\n",
      "15        38\n",
      "16       583\n",
      "17      8199\n",
      "dtype: int64\n",
      "\n",
      "Most active user posting the term: 632414122\n"
     ]
    }
   ],
   "source": [
    "#Specify a search term (e.g., \"britney\")\n",
    "search_term = 'britney'\n",
    "    \n",
    "# Run the queries\n",
    "print(\"\\nDaily tweet frequency:\", tweets_per_day(df, search_term))\n",
    "print(\"\\nUnique users posting the term:\", unique_user_count(df, search_term))\n",
    "print(\"\\nAverage likes for tweets containing the term:\", get_average_likes(df, search_term))\n",
    "print(\"\\nPlace IDs for tweets containing the term:\", get_place_ids(df, search_term))\n",
    "print(\"\\nTweet posting times (hourly):\", get_tweet_times(df, search_term))\n",
    "print(\"\\nMost active user posting the term:\", get_most_active_user(df, search_term))"
   ]
  }
 ],
 "metadata": {
  "kernelspec": {
   "display_name": "Python 3 (ipykernel)",
   "language": "python",
   "name": "python3"
  },
  "language_info": {
   "codemirror_mode": {
    "name": "ipython",
    "version": 3
   },
   "file_extension": ".py",
   "mimetype": "text/x-python",
   "name": "python",
   "nbconvert_exporter": "python",
   "pygments_lexer": "ipython3",
   "version": "3.10.9"
  }
 },
 "nbformat": 4,
 "nbformat_minor": 5
}
